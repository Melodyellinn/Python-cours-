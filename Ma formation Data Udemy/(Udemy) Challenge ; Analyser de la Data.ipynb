{
 "cells": [
  {
   "cell_type": "markdown",
   "metadata": {},
   "source": [
    "## Introduction au dataset"
   ]
  },
  {
   "cell_type": "markdown",
   "metadata": {},
   "source": [
    "* Lire all-age.csv dans un DataFrame et l'assigner à la variable all_ages.\n",
    "* Lire recent-grads.csv dans un DataFrame et l'assigner à la variable recent_grads.\n",
    "* Afficher les 5 premières lignes de all_ages et recent_grads."
   ]
  },
  {
   "cell_type": "code",
   "execution_count": 6,
   "metadata": {},
   "outputs": [],
   "source": [
    "import pandas as pd"
   ]
  },
  {
   "cell_type": "code",
   "execution_count": 7,
   "metadata": {},
   "outputs": [],
   "source": [
    "all_ages = pd.read_csv(\"all-ages.csv\")\n",
    "recent_grads = pd.read_csv(\"recent-grads.csv\")"
   ]
  },
  {
   "cell_type": "code",
   "execution_count": 8,
   "metadata": {},
   "outputs": [
    {
     "data": {
      "text/html": [
       "<div>\n",
       "<style scoped>\n",
       "    .dataframe tbody tr th:only-of-type {\n",
       "        vertical-align: middle;\n",
       "    }\n",
       "\n",
       "    .dataframe tbody tr th {\n",
       "        vertical-align: top;\n",
       "    }\n",
       "\n",
       "    .dataframe thead th {\n",
       "        text-align: right;\n",
       "    }\n",
       "</style>\n",
       "<table border=\"1\" class=\"dataframe\">\n",
       "  <thead>\n",
       "    <tr style=\"text-align: right;\">\n",
       "      <th></th>\n",
       "      <th>Major_code</th>\n",
       "      <th>Major</th>\n",
       "      <th>Major_category</th>\n",
       "      <th>Total</th>\n",
       "      <th>Employed</th>\n",
       "      <th>Employed_full_time_year_round</th>\n",
       "      <th>Unemployed</th>\n",
       "      <th>Unemployment_rate</th>\n",
       "      <th>Median</th>\n",
       "      <th>P25th</th>\n",
       "      <th>P75th</th>\n",
       "    </tr>\n",
       "  </thead>\n",
       "  <tbody>\n",
       "    <tr>\n",
       "      <th>0</th>\n",
       "      <td>1100</td>\n",
       "      <td>GENERAL AGRICULTURE</td>\n",
       "      <td>Agriculture &amp; Natural Resources</td>\n",
       "      <td>128148.0</td>\n",
       "      <td>90245.0</td>\n",
       "      <td>74078.0</td>\n",
       "      <td>2423.0</td>\n",
       "      <td>0.026147</td>\n",
       "      <td>50000.0</td>\n",
       "      <td>34000.0</td>\n",
       "      <td>80000.0</td>\n",
       "    </tr>\n",
       "    <tr>\n",
       "      <th>1</th>\n",
       "      <td>1101</td>\n",
       "      <td>AGRICULTURE PRODUCTION AND MANAGEMENT</td>\n",
       "      <td>Agriculture &amp; Natural Resources</td>\n",
       "      <td>95326.0</td>\n",
       "      <td>76865.0</td>\n",
       "      <td>64240.0</td>\n",
       "      <td>2266.0</td>\n",
       "      <td>0.028636</td>\n",
       "      <td>54000.0</td>\n",
       "      <td>36000.0</td>\n",
       "      <td>80000.0</td>\n",
       "    </tr>\n",
       "    <tr>\n",
       "      <th>2</th>\n",
       "      <td>1102</td>\n",
       "      <td>AGRICULTURAL ECONOMICS</td>\n",
       "      <td>Agriculture &amp; Natural Resources</td>\n",
       "      <td>33955.0</td>\n",
       "      <td>26321.0</td>\n",
       "      <td>22810.0</td>\n",
       "      <td>821.0</td>\n",
       "      <td>0.030248</td>\n",
       "      <td>63000.0</td>\n",
       "      <td>40000.0</td>\n",
       "      <td>98000.0</td>\n",
       "    </tr>\n",
       "    <tr>\n",
       "      <th>3</th>\n",
       "      <td>1103</td>\n",
       "      <td>ANIMAL SCIENCES</td>\n",
       "      <td>Agriculture &amp; Natural Resources</td>\n",
       "      <td>103549.0</td>\n",
       "      <td>81177.0</td>\n",
       "      <td>64937.0</td>\n",
       "      <td>3619.0</td>\n",
       "      <td>0.042679</td>\n",
       "      <td>46000.0</td>\n",
       "      <td>30000.0</td>\n",
       "      <td>72000.0</td>\n",
       "    </tr>\n",
       "    <tr>\n",
       "      <th>4</th>\n",
       "      <td>1104</td>\n",
       "      <td>FOOD SCIENCE</td>\n",
       "      <td>Agriculture &amp; Natural Resources</td>\n",
       "      <td>24280.0</td>\n",
       "      <td>17281.0</td>\n",
       "      <td>12722.0</td>\n",
       "      <td>894.0</td>\n",
       "      <td>0.049188</td>\n",
       "      <td>62000.0</td>\n",
       "      <td>38500.0</td>\n",
       "      <td>90000.0</td>\n",
       "    </tr>\n",
       "  </tbody>\n",
       "</table>\n",
       "</div>"
      ],
      "text/plain": [
       "  Major_code                                  Major  \\\n",
       "0       1100                    GENERAL AGRICULTURE   \n",
       "1       1101  AGRICULTURE PRODUCTION AND MANAGEMENT   \n",
       "2       1102                 AGRICULTURAL ECONOMICS   \n",
       "3       1103                        ANIMAL SCIENCES   \n",
       "4       1104                           FOOD SCIENCE   \n",
       "\n",
       "                    Major_category     Total  Employed  \\\n",
       "0  Agriculture & Natural Resources  128148.0   90245.0   \n",
       "1  Agriculture & Natural Resources   95326.0   76865.0   \n",
       "2  Agriculture & Natural Resources   33955.0   26321.0   \n",
       "3  Agriculture & Natural Resources  103549.0   81177.0   \n",
       "4  Agriculture & Natural Resources   24280.0   17281.0   \n",
       "\n",
       "   Employed_full_time_year_round  Unemployed  Unemployment_rate   Median  \\\n",
       "0                        74078.0      2423.0           0.026147  50000.0   \n",
       "1                        64240.0      2266.0           0.028636  54000.0   \n",
       "2                        22810.0       821.0           0.030248  63000.0   \n",
       "3                        64937.0      3619.0           0.042679  46000.0   \n",
       "4                        12722.0       894.0           0.049188  62000.0   \n",
       "\n",
       "     P25th    P75th  \n",
       "0  34000.0  80000.0  \n",
       "1  36000.0  80000.0  \n",
       "2  40000.0  98000.0  \n",
       "3  30000.0  72000.0  \n",
       "4  38500.0  90000.0  "
      ]
     },
     "execution_count": 8,
     "metadata": {},
     "output_type": "execute_result"
    }
   ],
   "source": [
    "all_ages[0:5]"
   ]
  },
  {
   "cell_type": "code",
   "execution_count": 9,
   "metadata": {},
   "outputs": [
    {
     "data": {
      "text/html": [
       "<div>\n",
       "<style scoped>\n",
       "    .dataframe tbody tr th:only-of-type {\n",
       "        vertical-align: middle;\n",
       "    }\n",
       "\n",
       "    .dataframe tbody tr th {\n",
       "        vertical-align: top;\n",
       "    }\n",
       "\n",
       "    .dataframe thead th {\n",
       "        text-align: right;\n",
       "    }\n",
       "</style>\n",
       "<table border=\"1\" class=\"dataframe\">\n",
       "  <thead>\n",
       "    <tr style=\"text-align: right;\">\n",
       "      <th></th>\n",
       "      <th>Rank</th>\n",
       "      <th>Major_code</th>\n",
       "      <th>Major</th>\n",
       "      <th>Major_category</th>\n",
       "      <th>Total</th>\n",
       "      <th>Sample_size</th>\n",
       "      <th>Men</th>\n",
       "      <th>Women</th>\n",
       "      <th>ShareWomen</th>\n",
       "      <th>Employed</th>\n",
       "      <th>...</th>\n",
       "      <th>Part_time</th>\n",
       "      <th>Full_time_year_round</th>\n",
       "      <th>Unemployed</th>\n",
       "      <th>Unemployment_rate</th>\n",
       "      <th>Median</th>\n",
       "      <th>P25th</th>\n",
       "      <th>P75th</th>\n",
       "      <th>College_jobs</th>\n",
       "      <th>Non_college_jobs</th>\n",
       "      <th>Low_wage_jobs</th>\n",
       "    </tr>\n",
       "  </thead>\n",
       "  <tbody>\n",
       "    <tr>\n",
       "      <th>0</th>\n",
       "      <td>1</td>\n",
       "      <td>2419.0</td>\n",
       "      <td>PETROLEUM ENGINEERING</td>\n",
       "      <td>Engineering</td>\n",
       "      <td>2339.0</td>\n",
       "      <td>36.0</td>\n",
       "      <td>2057.0</td>\n",
       "      <td>282.0</td>\n",
       "      <td>0.120564</td>\n",
       "      <td>1976.0</td>\n",
       "      <td>...</td>\n",
       "      <td>270.0</td>\n",
       "      <td>1207.0</td>\n",
       "      <td>37.0</td>\n",
       "      <td>0.018381</td>\n",
       "      <td>110000.0</td>\n",
       "      <td>95000.0</td>\n",
       "      <td>125000.0</td>\n",
       "      <td>1534.0</td>\n",
       "      <td>364.0</td>\n",
       "      <td>193.0</td>\n",
       "    </tr>\n",
       "    <tr>\n",
       "      <th>1</th>\n",
       "      <td>2</td>\n",
       "      <td>2416.0</td>\n",
       "      <td>MINING AND MINERAL ENGINEERING</td>\n",
       "      <td>Engineering</td>\n",
       "      <td>756.0</td>\n",
       "      <td>7.0</td>\n",
       "      <td>679.0</td>\n",
       "      <td>77.0</td>\n",
       "      <td>0.101852</td>\n",
       "      <td>640.0</td>\n",
       "      <td>...</td>\n",
       "      <td>170.0</td>\n",
       "      <td>388.0</td>\n",
       "      <td>85.0</td>\n",
       "      <td>0.117241</td>\n",
       "      <td>75000.0</td>\n",
       "      <td>55000.0</td>\n",
       "      <td>90000.0</td>\n",
       "      <td>350.0</td>\n",
       "      <td>257.0</td>\n",
       "      <td>50.0</td>\n",
       "    </tr>\n",
       "    <tr>\n",
       "      <th>2</th>\n",
       "      <td>3</td>\n",
       "      <td>2415.0</td>\n",
       "      <td>METALLURGICAL ENGINEERING</td>\n",
       "      <td>Engineering</td>\n",
       "      <td>856.0</td>\n",
       "      <td>3.0</td>\n",
       "      <td>725.0</td>\n",
       "      <td>131.0</td>\n",
       "      <td>0.153037</td>\n",
       "      <td>648.0</td>\n",
       "      <td>...</td>\n",
       "      <td>133.0</td>\n",
       "      <td>340.0</td>\n",
       "      <td>16.0</td>\n",
       "      <td>0.024096</td>\n",
       "      <td>73000.0</td>\n",
       "      <td>50000.0</td>\n",
       "      <td>105000.0</td>\n",
       "      <td>456.0</td>\n",
       "      <td>176.0</td>\n",
       "      <td>0.0</td>\n",
       "    </tr>\n",
       "    <tr>\n",
       "      <th>3</th>\n",
       "      <td>4</td>\n",
       "      <td>2417.0</td>\n",
       "      <td>NAVAL ARCHITECTURE AND MARINE ENGINEERING</td>\n",
       "      <td>Engineering</td>\n",
       "      <td>1258.0</td>\n",
       "      <td>16.0</td>\n",
       "      <td>1123.0</td>\n",
       "      <td>135.0</td>\n",
       "      <td>0.107313</td>\n",
       "      <td>758.0</td>\n",
       "      <td>...</td>\n",
       "      <td>150.0</td>\n",
       "      <td>692.0</td>\n",
       "      <td>40.0</td>\n",
       "      <td>0.050125</td>\n",
       "      <td>70000.0</td>\n",
       "      <td>43000.0</td>\n",
       "      <td>80000.0</td>\n",
       "      <td>529.0</td>\n",
       "      <td>102.0</td>\n",
       "      <td>0.0</td>\n",
       "    </tr>\n",
       "    <tr>\n",
       "      <th>4</th>\n",
       "      <td>5</td>\n",
       "      <td>2405.0</td>\n",
       "      <td>CHEMICAL ENGINEERING</td>\n",
       "      <td>Engineering</td>\n",
       "      <td>32260.0</td>\n",
       "      <td>289.0</td>\n",
       "      <td>21239.0</td>\n",
       "      <td>11021.0</td>\n",
       "      <td>0.341631</td>\n",
       "      <td>25694.0</td>\n",
       "      <td>...</td>\n",
       "      <td>5180.0</td>\n",
       "      <td>16697.0</td>\n",
       "      <td>1672.0</td>\n",
       "      <td>0.061098</td>\n",
       "      <td>65000.0</td>\n",
       "      <td>50000.0</td>\n",
       "      <td>75000.0</td>\n",
       "      <td>18314.0</td>\n",
       "      <td>4440.0</td>\n",
       "      <td>972.0</td>\n",
       "    </tr>\n",
       "  </tbody>\n",
       "</table>\n",
       "<p>5 rows × 21 columns</p>\n",
       "</div>"
      ],
      "text/plain": [
       "  Rank  Major_code                                      Major Major_category  \\\n",
       "0    1      2419.0                      PETROLEUM ENGINEERING    Engineering   \n",
       "1    2      2416.0             MINING AND MINERAL ENGINEERING    Engineering   \n",
       "2    3      2415.0                  METALLURGICAL ENGINEERING    Engineering   \n",
       "3    4      2417.0  NAVAL ARCHITECTURE AND MARINE ENGINEERING    Engineering   \n",
       "4    5      2405.0                       CHEMICAL ENGINEERING    Engineering   \n",
       "\n",
       "     Total  Sample_size      Men    Women  ShareWomen  Employed  ...  \\\n",
       "0   2339.0         36.0   2057.0    282.0    0.120564    1976.0  ...   \n",
       "1    756.0          7.0    679.0     77.0    0.101852     640.0  ...   \n",
       "2    856.0          3.0    725.0    131.0    0.153037     648.0  ...   \n",
       "3   1258.0         16.0   1123.0    135.0    0.107313     758.0  ...   \n",
       "4  32260.0        289.0  21239.0  11021.0    0.341631   25694.0  ...   \n",
       "\n",
       "   Part_time  Full_time_year_round  Unemployed  Unemployment_rate    Median  \\\n",
       "0      270.0                1207.0        37.0           0.018381  110000.0   \n",
       "1      170.0                 388.0        85.0           0.117241   75000.0   \n",
       "2      133.0                 340.0        16.0           0.024096   73000.0   \n",
       "3      150.0                 692.0        40.0           0.050125   70000.0   \n",
       "4     5180.0               16697.0      1672.0           0.061098   65000.0   \n",
       "\n",
       "     P25th     P75th  College_jobs  Non_college_jobs  Low_wage_jobs  \n",
       "0  95000.0  125000.0        1534.0             364.0          193.0  \n",
       "1  55000.0   90000.0         350.0             257.0           50.0  \n",
       "2  50000.0  105000.0         456.0             176.0            0.0  \n",
       "3  43000.0   80000.0         529.0             102.0            0.0  \n",
       "4  50000.0   75000.0       18314.0            4440.0          972.0  \n",
       "\n",
       "[5 rows x 21 columns]"
      ]
     },
     "execution_count": 9,
     "metadata": {},
     "output_type": "execute_result"
    }
   ],
   "source": [
    "recent_grads[0:5]"
   ]
  },
  {
   "cell_type": "markdown",
   "metadata": {},
   "source": [
    "## Nombre d'étudiants par catégorie de Major"
   ]
  },
  {
   "cell_type": "markdown",
   "metadata": {},
   "source": [
    "* Retourner les valeurs uniques de Major_category."
   ]
  },
  {
   "cell_type": "markdown",
   "metadata": {},
   "source": [
    "       * Utiliser la méthode Series.unique() pour retourner les valeurs uniques d'une Series."
   ]
  },
  {
   "cell_type": "code",
   "execution_count": 10,
   "metadata": {},
   "outputs": [
    {
     "data": {
      "text/plain": [
       "0      Agriculture & Natural Resources\n",
       "1      Agriculture & Natural Resources\n",
       "2      Agriculture & Natural Resources\n",
       "3      Agriculture & Natural Resources\n",
       "4      Agriculture & Natural Resources\n",
       "                    ...               \n",
       "168                           Business\n",
       "169                           Business\n",
       "170                           Business\n",
       "171          Humanities & Liberal Arts\n",
       "172          Humanities & Liberal Arts\n",
       "Name: Major_category, Length: 173, dtype: object"
      ]
     },
     "execution_count": 10,
     "metadata": {},
     "output_type": "execute_result"
    }
   ],
   "source": [
    "all_ages[\"Major_category\"]"
   ]
  },
  {
   "cell_type": "code",
   "execution_count": 11,
   "metadata": {},
   "outputs": [
    {
     "data": {
      "text/plain": [
       "array(['Agriculture & Natural Resources', 'Biology & Life Science',\n",
       "       'Engineering', 'Humanities & Liberal Arts',\n",
       "       'Communications & Journalism', 'Computers & Mathematics',\n",
       "       'Industrial Arts & Consumer Services', 'Education',\n",
       "       'Law & Public Policy', 'Interdisciplinary', 'Health',\n",
       "       'Social Science', 'Physical Sciences', nan,\n",
       "       'Psychology & Social Work', 'Arts', 'Business'], dtype=object)"
      ]
     },
     "execution_count": 11,
     "metadata": {},
     "output_type": "execute_result"
    }
   ],
   "source": [
    "all_ages[\"Major_category\"].unique()"
   ]
  },
  {
   "cell_type": "markdown",
   "metadata": {},
   "source": [
    "___________________________________________________________________\n",
    "* Pour chaque valeur unique (utilisation d'une boucle for ?) :"
   ]
  },
  {
   "cell_type": "markdown",
   "metadata": {},
   "source": [
    "        * Retourner toutes les lignes où Major_category vaut cette valeur unique.\n",
    "        * Calculer le nombre total d'étudiants représentant cette catégorie de major (colonne Total à sommer).\n",
    "        * Vous garderez en mémoire ce résultat sous la forme d'un dictionnaire contenant une Major_category en clé et le nombre d'étudiants en valeur."
   ]
  },
  {
   "cell_type": "markdown",
   "metadata": {},
   "source": [
    "Mission :"
   ]
  },
  {
   "cell_type": "markdown",
   "metadata": {},
   "source": [
    "* Créer une fonction dans laquelle vous utiliserez la colonne Total pour calculer le nombre d'étudiants pour chaque catégorie de Major (Major_category) dans chaque dataset.\n",
    "\n",
    "        * Stocker le résultat dans 2 dictionnaires distincts.\n",
    "        * La clé pour chaque dictionnaire sera Major_category et la valeur le total d'étudiants.\n",
    "        * Pour le dataset all_ages, stocker le résultat dans un dictionnaire qu'on nommera aa_cat_counts.\n",
    "        * Pour le dataset recent_grads, stocker le résultat dans un dictionnaire qu'on nommera rg_cat_counts.\n",
    "\n",
    "* Autre méthode : Utiliser un pivot de table.\n",
    "* Afficher les 2 dictionnaires"
   ]
  },
  {
   "cell_type": "code",
   "execution_count": 12,
   "metadata": {},
   "outputs": [
    {
     "data": {
      "text/plain": [
       "6771464.0"
      ]
     },
     "execution_count": 12,
     "metadata": {},
     "output_type": "execute_result"
    }
   ],
   "source": [
    "#Astuce : nombre total d'étudiants\n",
    "recent_grads[\"Total\"].sum()"
   ]
  },
  {
   "cell_type": "code",
   "execution_count": 13,
   "metadata": {},
   "outputs": [],
   "source": [
    "#major_total = {}"
   ]
  },
  {
   "cell_type": "code",
   "execution_count": 14,
   "metadata": {},
   "outputs": [],
   "source": [
    "#import numpy\n",
    "\n",
    "#for n in all_ages:\n",
    "    #all_ages[\"Major_category\"].unique()\n",
    "    #x= all_ages.pivot_table(index=\"Major_category\", values=\"Total\", aggfunc= numpy.sum)\n",
    "    #major_total[n]= x"
   ]
  },
  {
   "cell_type": "markdown",
   "metadata": {},
   "source": [
    "---------"
   ]
  },
  {
   "cell_type": "code",
   "execution_count": 15,
   "metadata": {},
   "outputs": [],
   "source": [
    "def calculate_major_cat_totals(df):\n",
    "    cats = df[\"Major_category\"].unique()\n",
    "    counts_dictionary = dict()\n",
    "\n",
    "    for c in cats:\n",
    "        major_df = df[df[\"Major_category\"] == c]\n",
    "        total = major_df[\"Total\"].sum()\n",
    "        counts_dictionary[c] = total\n",
    "    return counts_dictionary"
   ]
  },
  {
   "cell_type": "code",
   "execution_count": 16,
   "metadata": {},
   "outputs": [
    {
     "name": "stdout",
     "output_type": "stream",
     "text": [
      "{'Agriculture & Natural Resources': 632437.0, 'Biology & Life Science': 1338186.0, 'Engineering': 3576013.0, 'Humanities & Liberal Arts': 3738335.0, 'Communications & Journalism': 1803822.0, 'Computers & Mathematics': 1781378.0, 'Industrial Arts & Consumer Services': 1018072.0, 'Education': 4700118.0, 'Law & Public Policy': 902926.0, 'Interdisciplinary': 45199.0, 'Health': 2950859.0, 'Social Science': 2654125.0, 'Physical Sciences': 1013152.0, nan: 0.0, 'Psychology & Social Work': 1987278.0, 'Arts': 1805865.0, 'Business': 9858741.0}\n"
     ]
    }
   ],
   "source": [
    "aa_cat_counts = dict()\n",
    "aa_cat_counts = calculate_major_cat_totals(all_ages)\n",
    "print(aa_cat_counts)"
   ]
  },
  {
   "cell_type": "code",
   "execution_count": 18,
   "metadata": {},
   "outputs": [
    {
     "name": "stdout",
     "output_type": "stream",
     "text": [
      "{'Engineering': 537583.0, 'Business': 1302376.0, 'Physical Sciences': 183363.0, 'Law & Public Policy': 179107.0, 'Computers & Mathematics': 299008.0, 'Agriculture & Natural Resources': 79981.0, 'Industrial Arts & Consumer Services': 227357.0, 'Arts': 357130.0, 'Health': 463230.0, 'Social Science': 529966.0, nan: 0.0, 'Biology & Life Science': 453862.0, 'Education': 559129.0, 'Humanities & Liberal Arts': 713468.0, 'Psychology & Social Work': 481007.0, 'Communications & Journalism': 392601.0, 'Interdisciplinary': 12296.0}\n"
     ]
    }
   ],
   "source": [
    "rg_cat_counts = dict()\n",
    "rg_cat_counts = calculate_major_cat_totals(recent_grads)\n",
    "print(rg_cat_counts)"
   ]
  },
  {
   "cell_type": "code",
   "execution_count": 20,
   "metadata": {},
   "outputs": [],
   "source": [
    "import numpy as np\n",
    "aa_cat_counts =dict(all_ages.pivot_table(index=\"Major_category\", values=\"Total\", aggfunc=np.sum))"
   ]
  },
  {
   "cell_type": "code",
   "execution_count": 21,
   "metadata": {},
   "outputs": [
    {
     "name": "stdout",
     "output_type": "stream",
     "text": [
      "{'Total': Major_category\n",
      "Agriculture & Natural Resources         632437.0\n",
      "Arts                                   1805865.0\n",
      "Biology & Life Science                 1338186.0\n",
      "Business                               9858741.0\n",
      "Communications & Journalism            1803822.0\n",
      "Computers & Mathematics                1781378.0\n",
      "Education                              4700118.0\n",
      "Engineering                            3576013.0\n",
      "Health                                 2950859.0\n",
      "Humanities & Liberal Arts              3738335.0\n",
      "Industrial Arts & Consumer Services    1018072.0\n",
      "Interdisciplinary                        45199.0\n",
      "Law & Public Policy                     902926.0\n",
      "Physical Sciences                      1013152.0\n",
      "Psychology & Social Work               1987278.0\n",
      "Social Science                         2654125.0\n",
      "Name: Total, dtype: float64}\n"
     ]
    }
   ],
   "source": [
    "print(aa_cat_counts)"
   ]
  },
  {
   "cell_type": "markdown",
   "metadata": {},
   "source": [
    "## Taux de jobs à faible salaire"
   ]
  },
  {
   "cell_type": "markdown",
   "metadata": {},
   "source": [
    "* Utiliser les colonnes \"Low_wage_jobs\" et \"Total\" pour calculer la proportion de jeunes diplômés qui ont du trouver des jobs à faible salaire (recent_grads).\n",
    "        * Souvenez-vous que vous pouvez utiliser la méthodes Series.sum() pour retourner la somme des valeurs d'une colonne.\n",
    "\n",
    "* Stocker le résultat dans la variable low_wage_proportion et afficher le."
   ]
  },
  {
   "cell_type": "code",
   "execution_count": 22,
   "metadata": {},
   "outputs": [
    {
     "data": {
      "text/plain": [
       "Rank                    1234567891011121314151617181920212223242526272...\n",
       "Major_code                                                         660405\n",
       "Total                                                         6.77146e+06\n",
       "Sample_size                                                         61534\n",
       "Men                                                           2.86882e+06\n",
       "Women                                                         3.89146e+06\n",
       "ShareWomen                                                        89.7382\n",
       "Employed                                                      5.39246e+06\n",
       "Full_time                                                     4.49962e+06\n",
       "Part_time                                                     1.52714e+06\n",
       "Full_time_year_round                                          3.40427e+06\n",
       "Unemployed                                                         417824\n",
       "Unemployment_rate                                                  11.696\n",
       "Median                                                         6.8618e+06\n",
       "P25th                                                         5.04325e+06\n",
       "P75th                                                          8.8105e+06\n",
       "College_jobs                                                  2.13143e+06\n",
       "Non_college_jobs                                              2.29508e+06\n",
       "Low_wage_jobs                                                      667405\n",
       "dtype: object"
      ]
     },
     "execution_count": 22,
     "metadata": {},
     "output_type": "execute_result"
    }
   ],
   "source": [
    "recent_grads.sum()"
   ]
  },
  {
   "cell_type": "code",
   "execution_count": 33,
   "metadata": {},
   "outputs": [],
   "source": [
    "low_wage_proportion = recent_grads[\"Low_wage_jobs\"].sum() / recent_grads[\"Total\"].sum()"
   ]
  },
  {
   "cell_type": "code",
   "execution_count": 34,
   "metadata": {},
   "outputs": [
    {
     "name": "stdout",
     "output_type": "stream",
     "text": [
      "0.09856140415130317\n"
     ]
    }
   ],
   "source": [
    "print(low_wage_proportion)"
   ]
  },
  {
   "cell_type": "markdown",
   "metadata": {},
   "source": [
    "## Comparer des datasets"
   ]
  },
  {
   "cell_type": "markdown",
   "metadata": {},
   "source": [
    "* Utiliser une boucle for pour parcourir toutes les majors.\n",
    "\n",
    "\n",
    "            * Pour chaque Major et chaque DataFrame, filtrer seulement les lignes du DataFrame correspondant à cette major.\n",
    "            * Comparer les valeurs pour la colonne \"Unemployment_rate\" pour voir lequel des 2 DataFrames possèdent la valeur la plus basse.\n",
    "            * Incrémenter (cad ajouter 1) à la variable rg_lower_count si la valeur pour Unemployment_rate est plus petite dans le dataframe recent_grads que dans le dataframe all_ages.\n",
    " \n",
    " \n",
    "* Afficher le résultat rg_lower_count."
   ]
  },
  {
   "cell_type": "code",
   "execution_count": 60,
   "metadata": {},
   "outputs": [
    {
     "name": "stderr",
     "output_type": "stream",
     "text": [
      "<ipython-input-60-e7e279d014e1>:10: DeprecationWarning: The truth value of an empty array is ambiguous. Returning False, but in future this will result in an error. Use `array.size > 0` to check that an array is not empty.\n",
      "  if rg_unemp_rate < aa_unemp_rate:\n"
     ]
    }
   ],
   "source": [
    "rg_lower_count = 0\n",
    "\n",
    "for n in recent_grads['Major'].unique():\n",
    "    #print(\"Pour la majeur : \"+n)\n",
    "    #print(\"--------------------------------------------\")\n",
    "    #print('Recent')\n",
    "    rg_unemp_rate = recent_grads.loc[recent_grads['Major']== n]['Unemployment_rate'].values\n",
    "    #print(\"All\")\n",
    "    aa_unemp_rate = all_ages.loc[all_ages['Major']== n]['Unemployment_rate'].values\n",
    "    if rg_unemp_rate < aa_unemp_rate:\n",
    "        rg_lower_count += 1"
   ]
  },
  {
   "cell_type": "code",
   "execution_count": 61,
   "metadata": {},
   "outputs": [
    {
     "name": "stdout",
     "output_type": "stream",
     "text": [
      "42\n"
     ]
    }
   ],
   "source": [
    "print(rg_lower_count)"
   ]
  },
  {
   "cell_type": "code",
   "execution_count": 62,
   "metadata": {},
   "outputs": [
    {
     "data": {
      "text/plain": [
       "array(['PETROLEUM ENGINEERING', 'MINING AND MINERAL ENGINEERING',\n",
       "       'METALLURGICAL ENGINEERING',\n",
       "       'NAVAL ARCHITECTURE AND MARINE ENGINEERING',\n",
       "       'CHEMICAL ENGINEERING', 'NUCLEAR ENGINEERING', 'ACTUARIAL SCIENCE',\n",
       "       'ASTRONOMY AND ASTROPHYSICS', 'MECHANICAL ENGINEERING',\n",
       "       'ELECTRICAL ENGINEERING', 'COMPUTER ENGINEERING',\n",
       "       'AEROSPACE ENGINEERING', 'BIOMEDICAL ENGINEERING',\n",
       "       'MATERIALS SCIENCE', 'ENGINEERING MECHANICS PHYSICS AND SCIENCE',\n",
       "       'BIOLOGICAL ENGINEERING',\n",
       "       'INDUSTRIAL AND MANUFACTURING ENGINEERING', 'GENERAL ENGINEERING',\n",
       "       'ARCHITECTURAL ENGINEERING', 'COURT REPORTING', 'COMPUTER SCIENCE',\n",
       "       'FOOD SCIENCE', 'ELECTRICAL ENGINEERING TECHNOLOGY',\n",
       "       'MATERIALS ENGINEERING AND MATERIALS SCIENCE',\n",
       "       'MANAGEMENT INFORMATION SYSTEMS AND STATISTICS',\n",
       "       'CIVIL ENGINEERING', 'CONSTRUCTION SERVICES',\n",
       "       'OPERATIONS LOGISTICS AND E-COMMERCE', 'MISCELLANEOUS ENGINEERING',\n",
       "       'PUBLIC POLICY', 'ENVIRONMENTAL ENGINEERING',\n",
       "       'ENGINEERING TECHNOLOGIES', 'MISCELLANEOUS FINE ARTS',\n",
       "       'GEOLOGICAL AND GEOPHYSICAL ENGINEERING', 'NURSING', 'FINANCE',\n",
       "       'ECONOMICS', 'BUSINESS ECONOMICS',\n",
       "       'INDUSTRIAL PRODUCTION TECHNOLOGIES', nan, 'ACCOUNTING',\n",
       "       'MATHEMATICS', 'COMPUTER AND INFORMATION SYSTEMS', 'PHYSICS',\n",
       "       'MEDICAL TECHNOLOGIES TECHNICIANS', 'INFORMATION SCIENCES',\n",
       "       'STATISTICS AND DECISION SCIENCE', 'APPLIED MATHEMATICS',\n",
       "       'PHARMACOLOGY', 'OCEANOGRAPHY',\n",
       "       'ENGINEERING AND INDUSTRIAL MANAGEMENT',\n",
       "       'MEDICAL ASSISTING SERVICES', 'MATHEMATICS AND COMPUTER SCIENCE',\n",
       "       'COMPUTER PROGRAMMING AND DATA PROCESSING',\n",
       "       'COGNITIVE SCIENCE AND BIOPSYCHOLOGY', 'SCHOOL STUDENT COUNSELING',\n",
       "       'INTERNATIONAL RELATIONS', 'GENERAL BUSINESS', 'ARCHITECTURE',\n",
       "       'INTERNATIONAL BUSINESS',\n",
       "       'PHARMACY PHARMACEUTICAL SCIENCES AND ADMINISTRATION',\n",
       "       'MOLECULAR BIOLOGY',\n",
       "       'MISCELLANEOUS BUSINESS & MEDICAL ADMINISTRATION',\n",
       "       'AGRICULTURE PRODUCTION AND MANAGEMENT', 'GENERAL AGRICULTURE',\n",
       "       'MISCELLANEOUS ENGINEERING TECHNOLOGIES',\n",
       "       'MECHANICAL ENGINEERING RELATED TECHNOLOGIES', 'GENETICS',\n",
       "       'MISCELLANEOUS SOCIAL SCIENCES', 'UNITED STATES HISTORY',\n",
       "       'INDUSTRIAL AND ORGANIZATIONAL PSYCHOLOGY',\n",
       "       'AGRICULTURAL ECONOMICS', 'PHYSICAL SCIENCES',\n",
       "       'MILITARY TECHNOLOGIES', 'CHEMISTRY',\n",
       "       'BUSINESS MANAGEMENT AND ADMINISTRATION',\n",
       "       'MARKETING AND MARKETING RESEARCH',\n",
       "       'POLITICAL SCIENCE AND GOVERNMENT', 'GEOGRAPHY', 'MICROBIOLOGY',\n",
       "       'COMPUTER ADMINISTRATION MANAGEMENT AND SECURITY',\n",
       "       'BIOCHEMICAL SCIENCES', 'BOTANY',\n",
       "       'COMPUTER NETWORKING AND TELECOMMUNICATIONS',\n",
       "       'GEOLOGY AND EARTH SCIENCE',\n",
       "       'HUMAN RESOURCES AND PERSONNEL MANAGEMENT',\n",
       "       'PRE-LAW AND LEGAL STUDIES',\n",
       "       'MISCELLANEOUS HEALTH MEDICAL PROFESSIONS',\n",
       "       'PUBLIC ADMINISTRATION', 'GEOSCIENCES', 'SOCIAL PSYCHOLOGY',\n",
       "       'ENVIRONMENTAL SCIENCE', 'COMMUNICATIONS',\n",
       "       'CRIMINAL JUSTICE AND FIRE PROTECTION',\n",
       "       'COMMERCIAL ART AND GRAPHIC DESIGN', 'JOURNALISM',\n",
       "       'MULTI-DISCIPLINARY OR GENERAL SCIENCE',\n",
       "       'ADVERTISING AND PUBLIC RELATIONS',\n",
       "       'AREA ETHNIC AND CIVILIZATION STUDIES', 'SPECIAL NEEDS EDUCATION',\n",
       "       'PHYSIOLOGY', 'CRIMINOLOGY', 'NUTRITION SCIENCES',\n",
       "       'HEALTH AND MEDICAL ADMINISTRATIVE SERVICES',\n",
       "       'COMMUNICATION TECHNOLOGIES',\n",
       "       'TRANSPORTATION SCIENCES AND TECHNOLOGIES',\n",
       "       'NATURAL RESOURCES MANAGEMENT', 'NEUROSCIENCE',\n",
       "       'MULTI/INTERDISCIPLINARY STUDIES',\n",
       "       'ATMOSPHERIC SCIENCES AND METEOROLOGY', 'FORESTRY', 'SOIL SCIENCE',\n",
       "       'GENERAL EDUCATION', 'HISTORY',\n",
       "       'FRENCH GERMAN LATIN AND OTHER COMMON FOREIGN LANGUAGE STUDIES',\n",
       "       'INTERCULTURAL AND INTERNATIONAL STUDIES',\n",
       "       'SOCIAL SCIENCE OR HISTORY TEACHER EDUCATION',\n",
       "       'COMMUNITY AND PUBLIC HEALTH', 'MATHEMATICS TEACHER EDUCATION',\n",
       "       'EDUCATIONAL ADMINISTRATION AND SUPERVISION',\n",
       "       'HEALTH AND MEDICAL PREPARATORY PROGRAMS', 'MISCELLANEOUS BIOLOGY',\n",
       "       'BIOLOGY', 'SOCIOLOGY', 'MASS MEDIA',\n",
       "       'TREATMENT THERAPY PROFESSIONS', 'HOSPITALITY MANAGEMENT',\n",
       "       'LANGUAGE AND DRAMA EDUCATION',\n",
       "       'LINGUISTICS AND COMPARATIVE LANGUAGE AND LITERATURE',\n",
       "       'MISCELLANEOUS EDUCATION', 'INTERDISCIPLINARY SOCIAL SCIENCES',\n",
       "       'ECOLOGY', 'SECONDARY TEACHER EDUCATION',\n",
       "       'GENERAL MEDICAL AND HEALTH SERVICES',\n",
       "       'PHILOSOPHY AND RELIGIOUS STUDIES', 'ART AND MUSIC EDUCATION',\n",
       "       'ENGLISH LANGUAGE AND LITERATURE', 'ELEMENTARY EDUCATION',\n",
       "       'PHYSICAL FITNESS PARKS RECREATION AND LEISURE', 'LIBERAL ARTS',\n",
       "       'FILM VIDEO AND PHOTOGRAPHIC ARTS', 'GENERAL SOCIAL SCIENCES',\n",
       "       'PLANT SCIENCE AND AGRONOMY',\n",
       "       'SCIENCE AND COMPUTER TEACHER EDUCATION', 'PSYCHOLOGY', 'MUSIC',\n",
       "       'PHYSICAL AND HEALTH EDUCATION TEACHING',\n",
       "       'ART HISTORY AND CRITICISM', 'FINE ARTS',\n",
       "       'FAMILY AND CONSUMER SCIENCES', 'SOCIAL WORK', 'ANIMAL SCIENCES',\n",
       "       'VISUAL AND PERFORMING ARTS', 'TEACHER EDUCATION: MULTIPLE LEVELS',\n",
       "       'MISCELLANEOUS PSYCHOLOGY',\n",
       "       'HUMAN SERVICES AND COMMUNITY ORGANIZATION', 'HUMANITIES',\n",
       "       'THEOLOGY AND RELIGIOUS VOCATIONS', 'STUDIO ARTS',\n",
       "       'COSMETOLOGY SERVICES AND CULINARY ARTS',\n",
       "       'MISCELLANEOUS AGRICULTURE', 'ANTHROPOLOGY AND ARCHEOLOGY',\n",
       "       'COMMUNICATION DISORDERS SCIENCES AND SERVICES',\n",
       "       'EARLY CHILDHOOD EDUCATION', 'OTHER FOREIGN LANGUAGES',\n",
       "       'DRAMA AND THEATER ARTS', 'COMPOSITION AND RHETORIC', 'ZOOLOGY',\n",
       "       'EDUCATIONAL PSYCHOLOGY', 'CLINICAL PSYCHOLOGY',\n",
       "       'COUNSELING PSYCHOLOGY', 'LIBRARY SCIENCE'], dtype=object)"
      ]
     },
     "execution_count": 62,
     "metadata": {},
     "output_type": "execute_result"
    }
   ],
   "source": [
    "recent_grads[\"Major\"].unique()"
   ]
  },
  {
   "cell_type": "code",
   "execution_count": 63,
   "metadata": {},
   "outputs": [
    {
     "data": {
      "text/plain": [
       "array(['GENERAL AGRICULTURE', 'AGRICULTURE PRODUCTION AND MANAGEMENT',\n",
       "       'AGRICULTURAL ECONOMICS', 'ANIMAL SCIENCES', 'FOOD SCIENCE',\n",
       "       'PLANT SCIENCE AND AGRONOMY', 'SOIL SCIENCE',\n",
       "       'MISCELLANEOUS AGRICULTURE', 'ENVIRONMENTAL SCIENCE', 'FORESTRY',\n",
       "       'NATURAL RESOURCES MANAGEMENT', 'ARCHITECTURE',\n",
       "       'AREA ETHNIC AND CIVILIZATION STUDIES', 'COMMUNICATIONS',\n",
       "       'JOURNALISM', 'MASS MEDIA', 'ADVERTISING AND PUBLIC RELATIONS',\n",
       "       'COMMUNICATION TECHNOLOGIES', 'COMPUTER AND INFORMATION SYSTEMS',\n",
       "       'COMPUTER PROGRAMMING AND DATA PROCESSING', 'COMPUTER SCIENCE',\n",
       "       'INFORMATION SCIENCES',\n",
       "       'COMPUTER ADMINISTRATION MANAGEMENT AND SECURITY',\n",
       "       'COMPUTER NETWORKING AND TELECOMMUNICATIONS',\n",
       "       'COSMETOLOGY SERVICES AND CULINARY ARTS', 'GENERAL EDUCATION',\n",
       "       'EDUCATIONAL ADMINISTRATION AND SUPERVISION',\n",
       "       'SCHOOL STUDENT COUNSELING', 'ELEMENTARY EDUCATION',\n",
       "       'MATHEMATICS TEACHER EDUCATION',\n",
       "       'PHYSICAL AND HEALTH EDUCATION TEACHING',\n",
       "       'EARLY CHILDHOOD EDUCATION',\n",
       "       'SCIENCE AND COMPUTER TEACHER EDUCATION',\n",
       "       'SECONDARY TEACHER EDUCATION', 'SPECIAL NEEDS EDUCATION',\n",
       "       'SOCIAL SCIENCE OR HISTORY TEACHER EDUCATION',\n",
       "       'TEACHER EDUCATION: MULTIPLE LEVELS',\n",
       "       'LANGUAGE AND DRAMA EDUCATION', 'ART AND MUSIC EDUCATION',\n",
       "       'MISCELLANEOUS EDUCATION', 'GENERAL ENGINEERING',\n",
       "       'AEROSPACE ENGINEERING', 'BIOLOGICAL ENGINEERING',\n",
       "       'ARCHITECTURAL ENGINEERING', 'BIOMEDICAL ENGINEERING',\n",
       "       'CHEMICAL ENGINEERING', 'CIVIL ENGINEERING',\n",
       "       'COMPUTER ENGINEERING', 'ELECTRICAL ENGINEERING',\n",
       "       'ENGINEERING MECHANICS PHYSICS AND SCIENCE',\n",
       "       'ENVIRONMENTAL ENGINEERING',\n",
       "       'GEOLOGICAL AND GEOPHYSICAL ENGINEERING',\n",
       "       'INDUSTRIAL AND MANUFACTURING ENGINEERING',\n",
       "       'MATERIALS ENGINEERING AND MATERIALS SCIENCE',\n",
       "       'MECHANICAL ENGINEERING', 'METALLURGICAL ENGINEERING',\n",
       "       'MINING AND MINERAL ENGINEERING',\n",
       "       'NAVAL ARCHITECTURE AND MARINE ENGINEERING', 'NUCLEAR ENGINEERING',\n",
       "       'PETROLEUM ENGINEERING', 'MISCELLANEOUS ENGINEERING',\n",
       "       'ENGINEERING TECHNOLOGIES',\n",
       "       'ENGINEERING AND INDUSTRIAL MANAGEMENT',\n",
       "       'ELECTRICAL ENGINEERING TECHNOLOGY',\n",
       "       'INDUSTRIAL PRODUCTION TECHNOLOGIES',\n",
       "       'MECHANICAL ENGINEERING RELATED TECHNOLOGIES',\n",
       "       'MISCELLANEOUS ENGINEERING TECHNOLOGIES',\n",
       "       'LINGUISTICS AND COMPARATIVE LANGUAGE AND LITERATURE',\n",
       "       'FRENCH GERMAN LATIN AND OTHER COMMON FOREIGN LANGUAGE STUDIES',\n",
       "       'OTHER FOREIGN LANGUAGES', 'FAMILY AND CONSUMER SCIENCES',\n",
       "       'COURT REPORTING', 'PRE-LAW AND LEGAL STUDIES',\n",
       "       'ENGLISH LANGUAGE AND LITERATURE', 'COMPOSITION AND RHETORIC',\n",
       "       'LIBERAL ARTS', 'HUMANITIES', 'LIBRARY SCIENCE', 'BIOLOGY',\n",
       "       'BIOCHEMICAL SCIENCES', 'BOTANY', 'MOLECULAR BIOLOGY', 'ECOLOGY',\n",
       "       'GENETICS', 'MICROBIOLOGY', 'PHARMACOLOGY', 'PHYSIOLOGY',\n",
       "       'ZOOLOGY', 'NEUROSCIENCE', 'MISCELLANEOUS BIOLOGY', 'MATHEMATICS',\n",
       "       'APPLIED MATHEMATICS', 'STATISTICS AND DECISION SCIENCE',\n",
       "       'MILITARY TECHNOLOGIES', 'MULTI/INTERDISCIPLINARY STUDIES',\n",
       "       'INTERCULTURAL AND INTERNATIONAL STUDIES', 'NUTRITION SCIENCES',\n",
       "       'MATHEMATICS AND COMPUTER SCIENCE',\n",
       "       'COGNITIVE SCIENCE AND BIOPSYCHOLOGY',\n",
       "       'INTERDISCIPLINARY SOCIAL SCIENCES',\n",
       "       'PHYSICAL FITNESS PARKS RECREATION AND LEISURE',\n",
       "       'PHILOSOPHY AND RELIGIOUS STUDIES',\n",
       "       'THEOLOGY AND RELIGIOUS VOCATIONS', 'PHYSICAL SCIENCES',\n",
       "       'ASTRONOMY AND ASTROPHYSICS',\n",
       "       'ATMOSPHERIC SCIENCES AND METEOROLOGY', 'CHEMISTRY',\n",
       "       'GEOLOGY AND EARTH SCIENCE', 'GEOSCIENCES', 'OCEANOGRAPHY',\n",
       "       'PHYSICS', 'MATERIALS SCIENCE',\n",
       "       'MULTI-DISCIPLINARY OR GENERAL SCIENCE', nan, 'PSYCHOLOGY',\n",
       "       'EDUCATIONAL PSYCHOLOGY', 'CLINICAL PSYCHOLOGY',\n",
       "       'COUNSELING PSYCHOLOGY',\n",
       "       'INDUSTRIAL AND ORGANIZATIONAL PSYCHOLOGY', 'SOCIAL PSYCHOLOGY',\n",
       "       'MISCELLANEOUS PSYCHOLOGY', 'CRIMINAL JUSTICE AND FIRE PROTECTION',\n",
       "       'PUBLIC ADMINISTRATION', 'PUBLIC POLICY',\n",
       "       'HUMAN SERVICES AND COMMUNITY ORGANIZATION', 'SOCIAL WORK',\n",
       "       'GENERAL SOCIAL SCIENCES', 'ECONOMICS',\n",
       "       'ANTHROPOLOGY AND ARCHEOLOGY', 'CRIMINOLOGY', 'GEOGRAPHY',\n",
       "       'INTERNATIONAL RELATIONS', 'POLITICAL SCIENCE AND GOVERNMENT',\n",
       "       'SOCIOLOGY', 'MISCELLANEOUS SOCIAL SCIENCES',\n",
       "       'CONSTRUCTION SERVICES',\n",
       "       'TRANSPORTATION SCIENCES AND TECHNOLOGIES', 'FINE ARTS',\n",
       "       'DRAMA AND THEATER ARTS', 'MUSIC', 'VISUAL AND PERFORMING ARTS',\n",
       "       'COMMERCIAL ART AND GRAPHIC DESIGN',\n",
       "       'FILM VIDEO AND PHOTOGRAPHIC ARTS', 'ART HISTORY AND CRITICISM',\n",
       "       'STUDIO ARTS', 'MISCELLANEOUS FINE ARTS',\n",
       "       'GENERAL MEDICAL AND HEALTH SERVICES',\n",
       "       'COMMUNICATION DISORDERS SCIENCES AND SERVICES',\n",
       "       'HEALTH AND MEDICAL ADMINISTRATIVE SERVICES',\n",
       "       'MEDICAL ASSISTING SERVICES', 'MEDICAL TECHNOLOGIES TECHNICIANS',\n",
       "       'HEALTH AND MEDICAL PREPARATORY PROGRAMS', 'NURSING',\n",
       "       'PHARMACY PHARMACEUTICAL SCIENCES AND ADMINISTRATION',\n",
       "       'TREATMENT THERAPY PROFESSIONS', 'COMMUNITY AND PUBLIC HEALTH',\n",
       "       'MISCELLANEOUS HEALTH MEDICAL PROFESSIONS', 'GENERAL BUSINESS',\n",
       "       'ACCOUNTING', 'ACTUARIAL SCIENCE',\n",
       "       'BUSINESS MANAGEMENT AND ADMINISTRATION',\n",
       "       'OPERATIONS LOGISTICS AND E-COMMERCE', 'BUSINESS ECONOMICS',\n",
       "       'MARKETING AND MARKETING RESEARCH', 'FINANCE',\n",
       "       'HUMAN RESOURCES AND PERSONNEL MANAGEMENT',\n",
       "       'INTERNATIONAL BUSINESS', 'HOSPITALITY MANAGEMENT',\n",
       "       'MANAGEMENT INFORMATION SYSTEMS AND STATISTICS',\n",
       "       'MISCELLANEOUS BUSINESS & MEDICAL ADMINISTRATION', 'HISTORY',\n",
       "       'UNITED STATES HISTORY'], dtype=object)"
      ]
     },
     "execution_count": 63,
     "metadata": {},
     "output_type": "execute_result"
    }
   ],
   "source": [
    "all_ages['Major'].unique()"
   ]
  },
  {
   "cell_type": "code",
   "execution_count": null,
   "metadata": {},
   "outputs": [],
   "source": []
  }
 ],
 "metadata": {
  "kernelspec": {
   "display_name": "Python 3",
   "language": "python",
   "name": "python3"
  },
  "language_info": {
   "codemirror_mode": {
    "name": "ipython",
    "version": 3
   },
   "file_extension": ".py",
   "mimetype": "text/x-python",
   "name": "python",
   "nbconvert_exporter": "python",
   "pygments_lexer": "ipython3",
   "version": "3.8.5"
  }
 },
 "nbformat": 4,
 "nbformat_minor": 4
}
